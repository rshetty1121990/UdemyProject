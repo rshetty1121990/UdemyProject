{
 "cells": [
  {
   "cell_type": "markdown",
   "metadata": {},
   "source": [
    "___\n",
    "\n",
    "<a href='https://www.udemy.com/user/joseportilla/'><img src='../Pierian_Data_Logo.png'/></a>\n",
    "___\n",
    "<center><em>Content Copyright by Pierian Data</em></center>"
   ]
  },
  {
   "cell_type": "markdown",
   "metadata": {
    "collapsed": true
   },
   "source": [
    "# Statements Assessment Test\n",
    "Let's test your knowledge!"
   ]
  },
  {
   "cell_type": "markdown",
   "metadata": {},
   "source": [
    "_____\n",
    "**Use <code>for</code>, .split(), and <code>if</code> to create a Statement that will print out words that start with 's':**"
   ]
  },
  {
   "cell_type": "code",
   "execution_count": 3,
   "metadata": {},
   "outputs": [],
   "source": [
    "st = 'Print only the words that start with s in this sentence'"
   ]
  },
  {
   "cell_type": "code",
   "execution_count": 8,
   "metadata": {},
   "outputs": [
    {
     "name": "stdout",
     "output_type": "stream",
     "text": [
      "start\n",
      "s\n",
      "sentence\n"
     ]
    }
   ],
   "source": [
    "for i in st.split():\n",
    "    if i[0].upper() == 'S':\n",
    "        print(i)"
   ]
  },
  {
   "cell_type": "markdown",
   "metadata": {},
   "source": [
    "______\n",
    "**Use range() to print all the even numbers from 0 to 10.**"
   ]
  },
  {
   "cell_type": "code",
   "execution_count": 15,
   "metadata": {},
   "outputs": [
    {
     "name": "stdout",
     "output_type": "stream",
     "text": [
      "0\n",
      "2\n",
      "4\n",
      "6\n",
      "8\n",
      "10\n",
      "12\n",
      "14\n",
      "16\n",
      "18\n",
      "20\n",
      "22\n",
      "24\n",
      "26\n",
      "28\n",
      "30\n",
      "32\n",
      "34\n",
      "36\n",
      "38\n",
      "40\n",
      "42\n",
      "44\n",
      "46\n",
      "48\n",
      "50\n",
      "52\n",
      "54\n",
      "56\n",
      "58\n",
      "60\n",
      "62\n",
      "64\n",
      "66\n",
      "68\n",
      "70\n",
      "72\n",
      "74\n",
      "76\n",
      "78\n",
      "80\n",
      "82\n",
      "84\n",
      "86\n",
      "88\n",
      "90\n",
      "92\n",
      "94\n",
      "96\n",
      "98\n"
     ]
    }
   ],
   "source": [
    "for i in range(0,100):\n",
    "    if i%2 == 0:\n",
    "        print(i)\n"
   ]
  },
  {
   "cell_type": "markdown",
   "metadata": {},
   "source": [
    "___\n",
    "**Use a List Comprehension to create a list of all numbers between 1 and 50 that are divisible by 3.**"
   ]
  },
  {
   "cell_type": "code",
   "execution_count": 19,
   "metadata": {},
   "outputs": [
    {
     "data": {
      "text/plain": [
       "[3, 6, 9, 12, 15, 18, 21, 24, 27, 30, 33, 36, 39, 42, 45, 48]"
      ]
     },
     "execution_count": 19,
     "metadata": {},
     "output_type": "execute_result"
    }
   ],
   "source": [
    "[i for i in range(1,50) if i%3 == 0]\n",
    "\n",
    "    \n",
    "\n",
    "        \n"
   ]
  },
  {
   "cell_type": "markdown",
   "metadata": {},
   "source": [
    "_____\n",
    "**Go through the string below and if the length of a word is even print \"even!\"**"
   ]
  },
  {
   "cell_type": "code",
   "execution_count": 20,
   "metadata": {},
   "outputs": [],
   "source": [
    "st = 'Print every word in this sentence that has an even number of letters'"
   ]
  },
  {
   "cell_type": "code",
   "execution_count": 22,
   "metadata": {},
   "outputs": [
    {
     "name": "stdout",
     "output_type": "stream",
     "text": [
      "The word is word and is EVEN\n",
      "The word is in and is EVEN\n",
      "The word is this and is EVEN\n",
      "The word is sentence and is EVEN\n",
      "The word is that and is EVEN\n",
      "The word is an and is EVEN\n",
      "The word is even and is EVEN\n",
      "The word is number and is EVEN\n",
      "The word is of and is EVEN\n"
     ]
    }
   ],
   "source": [
    "#Code in this cell\n",
    "\n",
    "for i in st.split():\n",
    "    if len(i)%2 ==0:\n",
    "        print(f\"The word is {i} and is EVEN\")\n",
    "\n"
   ]
  },
  {
   "cell_type": "markdown",
   "metadata": {},
   "source": [
    "____\n",
    "**Write a program that prints the integers from 1 to 100. But for multiples of three print \"Fizz\" instead of the number, and for the multiples of five print \"Buzz\". For numbers which are multiples of both three and five print \"FizzBuzz\".**"
   ]
  },
  {
   "cell_type": "code",
   "execution_count": 24,
   "metadata": {},
   "outputs": [
    {
     "name": "stdout",
     "output_type": "stream",
     "text": [
      "1\n",
      "FizzBuzz\n",
      "2\n",
      "FizzBuzz\n",
      "3\n",
      "Fizz\n",
      "4\n",
      "FizzBuzz\n",
      "5\n",
      "Buzz\n",
      "6\n",
      "Fizz\n",
      "7\n",
      "FizzBuzz\n",
      "8\n",
      "FizzBuzz\n",
      "9\n",
      "Fizz\n",
      "10\n",
      "Buzz\n",
      "11\n",
      "FizzBuzz\n",
      "12\n",
      "Fizz\n",
      "13\n",
      "FizzBuzz\n",
      "14\n",
      "FizzBuzz\n",
      "15\n",
      "Fizz\n",
      "16\n",
      "FizzBuzz\n",
      "17\n",
      "FizzBuzz\n",
      "18\n",
      "Fizz\n",
      "19\n",
      "FizzBuzz\n",
      "20\n",
      "Buzz\n",
      "21\n",
      "Fizz\n",
      "22\n",
      "FizzBuzz\n",
      "23\n",
      "FizzBuzz\n",
      "24\n",
      "Fizz\n",
      "25\n",
      "Buzz\n",
      "26\n",
      "FizzBuzz\n",
      "27\n",
      "Fizz\n",
      "28\n",
      "FizzBuzz\n",
      "29\n",
      "FizzBuzz\n",
      "30\n",
      "Fizz\n",
      "31\n",
      "FizzBuzz\n",
      "32\n",
      "FizzBuzz\n",
      "33\n",
      "Fizz\n",
      "34\n",
      "FizzBuzz\n",
      "35\n",
      "Buzz\n",
      "36\n",
      "Fizz\n",
      "37\n",
      "FizzBuzz\n",
      "38\n",
      "FizzBuzz\n",
      "39\n",
      "Fizz\n",
      "40\n",
      "Buzz\n",
      "41\n",
      "FizzBuzz\n",
      "42\n",
      "Fizz\n",
      "43\n",
      "FizzBuzz\n",
      "44\n",
      "FizzBuzz\n",
      "45\n",
      "Fizz\n",
      "46\n",
      "FizzBuzz\n",
      "47\n",
      "FizzBuzz\n",
      "48\n",
      "Fizz\n",
      "49\n",
      "FizzBuzz\n",
      "50\n",
      "Buzz\n",
      "51\n",
      "Fizz\n",
      "52\n",
      "FizzBuzz\n",
      "53\n",
      "FizzBuzz\n",
      "54\n",
      "Fizz\n",
      "55\n",
      "Buzz\n",
      "56\n",
      "FizzBuzz\n",
      "57\n",
      "Fizz\n",
      "58\n",
      "FizzBuzz\n",
      "59\n",
      "FizzBuzz\n",
      "60\n",
      "Fizz\n",
      "61\n",
      "FizzBuzz\n",
      "62\n",
      "FizzBuzz\n",
      "63\n",
      "Fizz\n",
      "64\n",
      "FizzBuzz\n",
      "65\n",
      "Buzz\n",
      "66\n",
      "Fizz\n",
      "67\n",
      "FizzBuzz\n",
      "68\n",
      "FizzBuzz\n",
      "69\n",
      "Fizz\n",
      "70\n",
      "Buzz\n",
      "71\n",
      "FizzBuzz\n",
      "72\n",
      "Fizz\n",
      "73\n",
      "FizzBuzz\n",
      "74\n",
      "FizzBuzz\n",
      "75\n",
      "Fizz\n",
      "76\n",
      "FizzBuzz\n",
      "77\n",
      "FizzBuzz\n",
      "78\n",
      "Fizz\n",
      "79\n",
      "FizzBuzz\n",
      "80\n",
      "Buzz\n",
      "81\n",
      "Fizz\n",
      "82\n",
      "FizzBuzz\n",
      "83\n",
      "FizzBuzz\n",
      "84\n",
      "Fizz\n",
      "85\n",
      "Buzz\n",
      "86\n",
      "FizzBuzz\n",
      "87\n",
      "Fizz\n",
      "88\n",
      "FizzBuzz\n",
      "89\n",
      "FizzBuzz\n",
      "90\n",
      "Fizz\n",
      "91\n",
      "FizzBuzz\n",
      "92\n",
      "FizzBuzz\n",
      "93\n",
      "Fizz\n",
      "94\n",
      "FizzBuzz\n",
      "95\n",
      "Buzz\n",
      "96\n",
      "Fizz\n",
      "97\n",
      "FizzBuzz\n",
      "98\n",
      "FizzBuzz\n",
      "99\n",
      "Fizz\n"
     ]
    }
   ],
   "source": [
    "#Code in this cell\n",
    "\n",
    "for i in range(1,100):\n",
    "    print(i)\n",
    "    if i%3 == 0:\n",
    "        print(\"Fizz\")\n",
    "    elif i%5 ==0:\n",
    "        print(\"Buzz\")\n",
    "    else:\n",
    "        print(\"FizzBuzz\")"
   ]
  },
  {
   "cell_type": "markdown",
   "metadata": {},
   "source": [
    "____\n",
    "**Use List Comprehension to create a list of the first letters of every word in the string below:**"
   ]
  },
  {
   "cell_type": "code",
   "execution_count": 25,
   "metadata": {},
   "outputs": [],
   "source": [
    "st = 'Create a list of the first letters of every word in this string'"
   ]
  },
  {
   "cell_type": "code",
   "execution_count": 33,
   "metadata": {},
   "outputs": [
    {
     "data": {
      "text/plain": [
       "['C', 'a', 'l', 'o', 't', 'f', 'l', 'o', 'e', 'w', 'i', 't', 's']"
      ]
     },
     "execution_count": 33,
     "metadata": {},
     "output_type": "execute_result"
    }
   ],
   "source": [
    "[i[0] for i in st.split()]"
   ]
  },
  {
   "cell_type": "markdown",
   "metadata": {},
   "source": [
    "### Great Job!"
   ]
  }
 ],
 "metadata": {
  "kernelspec": {
   "display_name": "Python 3",
   "language": "python",
   "name": "python3"
  },
  "language_info": {
   "codemirror_mode": {
    "name": "ipython",
    "version": 3
   },
   "file_extension": ".py",
   "mimetype": "text/x-python",
   "name": "python",
   "nbconvert_exporter": "python",
   "pygments_lexer": "ipython3",
   "version": "3.8.8"
  }
 },
 "nbformat": 4,
 "nbformat_minor": 1
}
