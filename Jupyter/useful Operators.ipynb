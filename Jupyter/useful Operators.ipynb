{
 "cells": [
  {
   "cell_type": "markdown",
   "id": "ac9f828b",
   "metadata": {},
   "source": [
    "# RANGE"
   ]
  },
  {
   "cell_type": "code",
   "execution_count": null,
   "id": "4cedc6d9",
   "metadata": {},
   "outputs": [],
   "source": [
    "mylist = [1,2,3]"
   ]
  },
  {
   "cell_type": "code",
   "execution_count": 6,
   "id": "9e2ba83a",
   "metadata": {},
   "outputs": [
    {
     "name": "stdout",
     "output_type": "stream",
     "text": [
      "0\n",
      "1\n",
      "2\n",
      "3\n",
      "4\n",
      "5\n",
      "6\n",
      "7\n",
      "8\n",
      "9\n"
     ]
    }
   ],
   "source": [
    "for num in range(10):\n",
    "    print(num)  # 0-9 will be printed because number includes 10"
   ]
  },
  {
   "cell_type": "code",
   "execution_count": 7,
   "id": "51b319af",
   "metadata": {},
   "outputs": [
    {
     "name": "stdout",
     "output_type": "stream",
     "text": [
      "0\n",
      "3\n",
      "6\n",
      "9\n"
     ]
    }
   ],
   "source": [
    "for num in range(0,10,3):\n",
    "    print(num)  # 0-9 will be printed because number includes 10"
   ]
  },
  {
   "cell_type": "code",
   "execution_count": 8,
   "id": "5272c9e8",
   "metadata": {},
   "outputs": [
    {
     "data": {
      "text/plain": [
       "range(0, 10, 3)"
      ]
     },
     "execution_count": 8,
     "metadata": {},
     "output_type": "execute_result"
    }
   ],
   "source": [
    "range(0,10,3)"
   ]
  },
  {
   "cell_type": "code",
   "execution_count": 9,
   "id": "3f8dc5ac",
   "metadata": {},
   "outputs": [
    {
     "data": {
      "text/plain": [
       "[0, 3, 6, 9]"
      ]
     },
     "execution_count": 9,
     "metadata": {},
     "output_type": "execute_result"
    }
   ],
   "source": [
    "list(range(0, 10, 3))  # range is generator"
   ]
  },
  {
   "cell_type": "markdown",
   "id": "d0c5d873",
   "metadata": {},
   "source": [
    "# Enumerate"
   ]
  },
  {
   "cell_type": "code",
   "execution_count": 13,
   "id": "4cdbde61",
   "metadata": {},
   "outputs": [
    {
     "name": "stdout",
     "output_type": "stream",
     "text": [
      "At index  0 the letter is a\n",
      "At index  1 the letter is b\n",
      "At index  2 the letter is c\n",
      "At index  3 the letter is d\n",
      "At index  4 the letter is e\n"
     ]
    }
   ],
   "source": [
    "index_count = 0\n",
    "for letter in 'abcde':\n",
    "    print(\"At index  {} the letter is {}\".format(index_count,letter))\n",
    "    index_count +=  1"
   ]
  },
  {
   "cell_type": "code",
   "execution_count": null,
   "id": "256fe277",
   "metadata": {},
   "outputs": [],
   "source": [
    "index_count = 0\n",
    "word = 'abcde'\n",
    "for letter in word:\n",
    "    print(word[index_count])\n",
    "    index_count +=  1  # here we nned a runninb index count, we may have this type of thing very common, loop increment varibale"
   ]
  },
  {
   "cell_type": "code",
   "execution_count": 16,
   "id": "7c5dddfc",
   "metadata": {},
   "outputs": [
    {
     "name": "stdout",
     "output_type": "stream",
     "text": [
      "(0, 'a')\n",
      "(1, 'b')\n",
      "(2, 'c')\n",
      "(3, 'd')\n",
      "(4, 'e')\n"
     ]
    }
   ],
   "source": [
    "word = 'abcde'\n",
    "for item in enumerate(word):\n",
    "    print(item)  # returns a tuple again"
   ]
  },
  {
   "cell_type": "code",
   "execution_count": 17,
   "id": "4606ca60",
   "metadata": {},
   "outputs": [
    {
     "name": "stdout",
     "output_type": "stream",
     "text": [
      "0 item is a\n",
      "1 item is b\n",
      "2 item is c\n",
      "3 item is d\n",
      "4 item is e\n"
     ]
    }
   ],
   "source": [
    "word = 'abcde'\n",
    "for index,item in enumerate(word):\n",
    "    print(f\"{index} item is {item}\")"
   ]
  },
  {
   "cell_type": "markdown",
   "id": "9f3d3308",
   "metadata": {},
   "source": [
    "# ZIP"
   ]
  },
  {
   "cell_type": "code",
   "execution_count": 21,
   "id": "5c02b042",
   "metadata": {},
   "outputs": [],
   "source": [
    "mylist1 = [1,2,3,4]\n",
    "mylist2 = [4,5,6]"
   ]
  },
  {
   "cell_type": "code",
   "execution_count": 19,
   "id": "2cbd80f6",
   "metadata": {},
   "outputs": [
    {
     "data": {
      "text/plain": [
       "<zip at 0x1576cf36900>"
      ]
     },
     "execution_count": 19,
     "metadata": {},
     "output_type": "execute_result"
    }
   ],
   "source": [
    "zip(mylist1,mylist2)"
   ]
  },
  {
   "cell_type": "code",
   "execution_count": 23,
   "id": "7a1692df",
   "metadata": {},
   "outputs": [
    {
     "name": "stdout",
     "output_type": "stream",
     "text": [
      "(1, 4)\n",
      "(2, 5)\n",
      "(3, 6)\n"
     ]
    }
   ],
   "source": [
    "for item in zip(mylist1,mylist2):\n",
    "    print(item) # zips together two lists\n",
    "\n",
    "    # if uneven list will not zip if extra but wont give error"
   ]
  },
  {
   "cell_type": "code",
   "execution_count": 25,
   "id": "59db5469",
   "metadata": {},
   "outputs": [
    {
     "data": {
      "text/plain": [
       "[(1, 4), (2, 5), (3, 6)]"
      ]
     },
     "execution_count": 25,
     "metadata": {},
     "output_type": "execute_result"
    }
   ],
   "source": [
    "list(zip(mylist1,mylist2))  # return is always a tuple"
   ]
  },
  {
   "cell_type": "markdown",
   "id": "bac20486",
   "metadata": {},
   "source": [
    "# IN "
   ]
  },
  {
   "cell_type": "code",
   "execution_count": 27,
   "id": "1f74d3c5",
   "metadata": {},
   "outputs": [
    {
     "data": {
      "text/plain": [
       "True"
      ]
     },
     "execution_count": 27,
     "metadata": {},
     "output_type": "execute_result"
    }
   ],
   "source": [
    "'a' in ['a','b']"
   ]
  },
  {
   "cell_type": "code",
   "execution_count": 29,
   "id": "e5258591",
   "metadata": {},
   "outputs": [
    {
     "data": {
      "text/plain": [
       "True"
      ]
     },
     "execution_count": 29,
     "metadata": {},
     "output_type": "execute_result"
    }
   ],
   "source": [
    "'k1' in {'k1':'value1'}"
   ]
  },
  {
   "cell_type": "code",
   "execution_count": 30,
   "id": "730160b8",
   "metadata": {},
   "outputs": [
    {
     "data": {
      "text/plain": [
       "True"
      ]
     },
     "execution_count": 30,
     "metadata": {},
     "output_type": "execute_result"
    }
   ],
   "source": [
    "'value1' in {'k1':'value1'}.values()"
   ]
  },
  {
   "cell_type": "markdown",
   "id": "f2562f69",
   "metadata": {},
   "source": [
    "# MIN and MAX"
   ]
  },
  {
   "cell_type": "code",
   "execution_count": 31,
   "id": "1092d04a",
   "metadata": {},
   "outputs": [],
   "source": [
    "mylist = [10, 20,30, 40,50]"
   ]
  },
  {
   "cell_type": "code",
   "execution_count": 32,
   "id": "78531140",
   "metadata": {},
   "outputs": [
    {
     "data": {
      "text/plain": [
       "10"
      ]
     },
     "execution_count": 32,
     "metadata": {},
     "output_type": "execute_result"
    }
   ],
   "source": [
    "min(mylist)"
   ]
  },
  {
   "cell_type": "code",
   "execution_count": 33,
   "id": "62c764d0",
   "metadata": {},
   "outputs": [
    {
     "data": {
      "text/plain": [
       "50"
      ]
     },
     "execution_count": 33,
     "metadata": {},
     "output_type": "execute_result"
    }
   ],
   "source": [
    "max(mylist)"
   ]
  },
  {
   "cell_type": "markdown",
   "id": "4e52fbfd",
   "metadata": {},
   "source": [
    "# RANDOM library"
   ]
  },
  {
   "cell_type": "code",
   "execution_count": 34,
   "id": "894d08af",
   "metadata": {},
   "outputs": [],
   "source": [
    "from random import shuffle  # random librabry import shuffle function"
   ]
  },
  {
   "cell_type": "code",
   "execution_count": 35,
   "id": "6bf9351d",
   "metadata": {},
   "outputs": [],
   "source": [
    "lst_1 = [1,2,3,4,5,6,7]"
   ]
  },
  {
   "cell_type": "code",
   "execution_count": 40,
   "id": "681caacc",
   "metadata": {},
   "outputs": [],
   "source": [
    "shuffle(lst_1)  # no return value like sort and reverse amke changes in place"
   ]
  },
  {
   "cell_type": "code",
   "execution_count": 39,
   "id": "90706b57",
   "metadata": {},
   "outputs": [
    {
     "data": {
      "text/plain": [
       "[5, 3, 7, 6, 4, 1, 2]"
      ]
     },
     "execution_count": 39,
     "metadata": {},
     "output_type": "execute_result"
    }
   ],
   "source": [
    "lst_1"
   ]
  },
  {
   "cell_type": "code",
   "execution_count": 42,
   "id": "93aa51db",
   "metadata": {},
   "outputs": [],
   "source": [
    "from random import randint #radom integer"
   ]
  },
  {
   "cell_type": "code",
   "execution_count": 46,
   "id": "c7863232",
   "metadata": {},
   "outputs": [
    {
     "data": {
      "text/plain": [
       "4"
      ]
     },
     "execution_count": 46,
     "metadata": {},
     "output_type": "execute_result"
    }
   ],
   "source": [
    "randint(0,10) # retune value is a integer"
   ]
  },
  {
   "cell_type": "markdown",
   "id": "b7d7c517",
   "metadata": {},
   "source": [
    "# User input"
   ]
  },
  {
   "cell_type": "code",
   "execution_count": 48,
   "id": "c2251b73",
   "metadata": {},
   "outputs": [
    {
     "name": "stdout",
     "output_type": "stream",
     "text": [
      "Enter a number here\n",
      "100\n"
     ]
    },
    {
     "data": {
      "text/plain": [
       "'100'"
      ]
     },
     "execution_count": 48,
     "metadata": {},
     "output_type": "execute_result"
    }
   ],
   "source": [
    "input('Enter a number here\\n')"
   ]
  },
  {
   "cell_type": "code",
   "execution_count": 51,
   "id": "988ff66a",
   "metadata": {},
   "outputs": [
    {
     "name": "stdout",
     "output_type": "stream",
     "text": [
      "What is your name ?? \n",
      "100\n"
     ]
    }
   ],
   "source": [
    "result = input('What is your name ?? \\n')  # accepts anything as a string, we can type cast it later"
   ]
  },
  {
   "cell_type": "code",
   "execution_count": 52,
   "id": "d46c43f1",
   "metadata": {},
   "outputs": [
    {
     "data": {
      "text/plain": [
       "'100'"
      ]
     },
     "execution_count": 52,
     "metadata": {},
     "output_type": "execute_result"
    }
   ],
   "source": [
    "result # result is string here"
   ]
  },
  {
   "cell_type": "code",
   "execution_count": 54,
   "id": "1689fb62",
   "metadata": {},
   "outputs": [
    {
     "name": "stdout",
     "output_type": "stream",
     "text": [
      "Input 3 number1,2,3\n"
     ]
    }
   ],
   "source": [
    "result = input('Input 3 number')"
   ]
  },
  {
   "cell_type": "code",
   "execution_count": 55,
   "id": "e6c8230b",
   "metadata": {},
   "outputs": [
    {
     "data": {
      "text/plain": [
       "'1,2,3'"
      ]
     },
     "execution_count": 55,
     "metadata": {},
     "output_type": "execute_result"
    }
   ],
   "source": [
    "result"
   ]
  },
  {
   "cell_type": "code",
   "execution_count": 59,
   "id": "e6f54330",
   "metadata": {},
   "outputs": [
    {
     "data": {
      "text/plain": [
       "['1', '2', '3']"
      ]
     },
     "execution_count": 59,
     "metadata": {},
     "output_type": "execute_result"
    }
   ],
   "source": [
    "result.split(',')"
   ]
  },
  {
   "cell_type": "code",
   "execution_count": 60,
   "id": "ef15193b",
   "metadata": {},
   "outputs": [
    {
     "name": "stdout",
     "output_type": "stream",
     "text": [
      "What is your name ?? \n",
      "100\n"
     ]
    }
   ],
   "source": [
    "result = int(input('What is your name ?? \\n'))"
   ]
  },
  {
   "cell_type": "code",
   "execution_count": 61,
   "id": "8a894ee6",
   "metadata": {},
   "outputs": [
    {
     "data": {
      "text/plain": [
       "100"
      ]
     },
     "execution_count": 61,
     "metadata": {},
     "output_type": "execute_result"
    }
   ],
   "source": [
    "result"
   ]
  },
  {
   "cell_type": "code",
   "execution_count": null,
   "id": "f265dfeb",
   "metadata": {},
   "outputs": [],
   "source": []
  }
 ],
 "metadata": {
  "kernelspec": {
   "display_name": "Python 3",
   "language": "python",
   "name": "python3"
  },
  "language_info": {
   "codemirror_mode": {
    "name": "ipython",
    "version": 3
   },
   "file_extension": ".py",
   "mimetype": "text/x-python",
   "name": "python",
   "nbconvert_exporter": "python",
   "pygments_lexer": "ipython3",
   "version": "3.8.8"
  }
 },
 "nbformat": 4,
 "nbformat_minor": 5
}
