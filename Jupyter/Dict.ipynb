{
 "cells": [
  {
   "cell_type": "code",
   "execution_count": 1,
   "id": "bf43c74f",
   "metadata": {},
   "outputs": [],
   "source": [
    "#allow to store object in key valur pair, this is an unordered sequence ,"
   ]
  },
  {
   "cell_type": "code",
   "execution_count": 2,
   "id": "fa9ba3ab",
   "metadata": {},
   "outputs": [
    {
     "data": {
      "text/plain": [
       "{'key': 'value', 'key2': 'values'}"
      ]
     },
     "execution_count": 2,
     "metadata": {},
     "output_type": "execute_result"
    }
   ],
   "source": [
    "{'key': 'value', 'key2' : 'values' }"
   ]
  },
  {
   "cell_type": "code",
   "execution_count": 6,
   "id": "51a4c5c3",
   "metadata": {},
   "outputs": [],
   "source": [
    "#DICT are object retreive by key name and can not be sorted, and list can be used whenever indexing or slicing is required\n",
    "# We need not know the order where it is saved in dict. easy to pick values but indexing and slciing and sorting is traded off \n",
    "#in DICT\n"
   ]
  },
  {
   "cell_type": "code",
   "execution_count": 7,
   "id": "ffc80505",
   "metadata": {},
   "outputs": [],
   "source": [
    "my_dict = {'key1':'value1', 'key2':'value2'}"
   ]
  },
  {
   "cell_type": "code",
   "execution_count": 9,
   "id": "6de91e27",
   "metadata": {},
   "outputs": [
    {
     "data": {
      "text/plain": [
       "'value1'"
      ]
     },
     "execution_count": 9,
     "metadata": {},
     "output_type": "execute_result"
    }
   ],
   "source": [
    "my_dict['key1']"
   ]
  },
  {
   "cell_type": "code",
   "execution_count": 10,
   "id": "a73d47e1",
   "metadata": {},
   "outputs": [],
   "source": [
    "#example like prices we can have a key value pair "
   ]
  },
  {
   "cell_type": "code",
   "execution_count": 14,
   "id": "b43b5b15",
   "metadata": {},
   "outputs": [],
   "source": [
    "prices_lookup = {'Apple':2,20:10,'Milk':'20'}"
   ]
  },
  {
   "cell_type": "code",
   "execution_count": 15,
   "id": "c82e21ce",
   "metadata": {},
   "outputs": [
    {
     "data": {
      "text/plain": [
       "10"
      ]
     },
     "execution_count": 15,
     "metadata": {},
     "output_type": "execute_result"
    }
   ],
   "source": [
    "prices_lookup[20]"
   ]
  },
  {
   "cell_type": "code",
   "execution_count": 16,
   "id": "ac52b51d",
   "metadata": {},
   "outputs": [],
   "source": [
    "#DICT allows various object type like we can have List inside DICT or a DICT inside DICT"
   ]
  },
  {
   "cell_type": "code",
   "execution_count": 19,
   "id": "e0a1bc27",
   "metadata": {},
   "outputs": [],
   "source": [
    "d1 = {'key1':'Value1','key2':'Value2','lst':[1,'STRING',100.90]}"
   ]
  },
  {
   "cell_type": "code",
   "execution_count": 20,
   "id": "9bcebcdf",
   "metadata": {},
   "outputs": [
    {
     "data": {
      "text/plain": [
       "{'key1': 'Value1', 'key2': 'Value2', 'lst': [1, 'STRING', 100.9]}"
      ]
     },
     "execution_count": 20,
     "metadata": {},
     "output_type": "execute_result"
    }
   ],
   "source": [
    "d1"
   ]
  },
  {
   "cell_type": "code",
   "execution_count": 27,
   "id": "44387de4",
   "metadata": {},
   "outputs": [
    {
     "data": {
      "text/plain": [
       "100.9"
      ]
     },
     "execution_count": 27,
     "metadata": {},
     "output_type": "execute_result"
    }
   ],
   "source": [
    "d1['lst'][-1]  #we can add list inside a dictionary"
   ]
  },
  {
   "cell_type": "code",
   "execution_count": 29,
   "id": "3a163a15",
   "metadata": {},
   "outputs": [],
   "source": [
    "d1 = {'k1':100,'k2':200}"
   ]
  },
  {
   "cell_type": "code",
   "execution_count": 30,
   "id": "d54bb2fe",
   "metadata": {},
   "outputs": [],
   "source": [
    "d1['k3'] = 300"
   ]
  },
  {
   "cell_type": "code",
   "execution_count": 31,
   "id": "5c6d07ff",
   "metadata": {},
   "outputs": [
    {
     "data": {
      "text/plain": [
       "{'k1': 100, 'k2': 200, 'k3': 300}"
      ]
     },
     "execution_count": 31,
     "metadata": {},
     "output_type": "execute_result"
    }
   ],
   "source": [
    "d1"
   ]
  },
  {
   "cell_type": "code",
   "execution_count": 52,
   "id": "45877942",
   "metadata": {},
   "outputs": [],
   "source": [
    "#DICTs are also mutable hencewe can change the objects  # Keys should mostly be strings but int is also allowed"
   ]
  },
  {
   "cell_type": "code",
   "execution_count": 33,
   "id": "f39552ff",
   "metadata": {},
   "outputs": [
    {
     "data": {
      "text/plain": [
       "{'k1': 100, 'k2': 200, 'k3': 300}"
      ]
     },
     "execution_count": 33,
     "metadata": {},
     "output_type": "execute_result"
    }
   ],
   "source": [
    "d1"
   ]
  },
  {
   "cell_type": "code",
   "execution_count": 35,
   "id": "618b81b5",
   "metadata": {},
   "outputs": [],
   "source": [
    "d1['k1'] = 'NEW VALUE'"
   ]
  },
  {
   "cell_type": "code",
   "execution_count": 36,
   "id": "ce46b76b",
   "metadata": {},
   "outputs": [
    {
     "data": {
      "text/plain": [
       "{'k1': 'NEW VALUE', 'k2': 200, 'k3': 300}"
      ]
     },
     "execution_count": 36,
     "metadata": {},
     "output_type": "execute_result"
    }
   ],
   "source": [
    "d1"
   ]
  },
  {
   "cell_type": "code",
   "execution_count": 37,
   "id": "87160b2f",
   "metadata": {},
   "outputs": [],
   "source": [
    "d2 = {'key1':'Value1','key2':'Value2','lst':[1,'STRING',100.90]}"
   ]
  },
  {
   "cell_type": "code",
   "execution_count": 45,
   "id": "ef3b1104",
   "metadata": {},
   "outputs": [],
   "source": [
    "d2['lst'][1] = 'ANOTHER NEW STRING'"
   ]
  },
  {
   "cell_type": "code",
   "execution_count": 43,
   "id": "55ede3af",
   "metadata": {},
   "outputs": [
    {
     "data": {
      "text/plain": [
       "{'key1': 'Value1',\n",
       " 'key2': 'Value2',\n",
       " 'lst': [1, 'ANOTHER NEW STRING', 'NEW STRING']}"
      ]
     },
     "execution_count": 43,
     "metadata": {},
     "output_type": "execute_result"
    }
   ],
   "source": [
    "d2"
   ]
  },
  {
   "cell_type": "code",
   "execution_count": 46,
   "id": "868b1b67",
   "metadata": {},
   "outputs": [],
   "source": [
    "#Important functions"
   ]
  },
  {
   "cell_type": "code",
   "execution_count": 47,
   "id": "9c1963d2",
   "metadata": {},
   "outputs": [
    {
     "data": {
      "text/plain": [
       "dict_keys(['key1', 'key2', 'lst'])"
      ]
     },
     "execution_count": 47,
     "metadata": {},
     "output_type": "execute_result"
    }
   ],
   "source": [
    "d2.keys()"
   ]
  },
  {
   "cell_type": "code",
   "execution_count": 48,
   "id": "a3ffb8cb",
   "metadata": {},
   "outputs": [
    {
     "data": {
      "text/plain": [
       "dict_values(['Value1', 'Value2', [1, 'ANOTHER NEW STRING', 'NEW STRING']])"
      ]
     },
     "execution_count": 48,
     "metadata": {},
     "output_type": "execute_result"
    }
   ],
   "source": [
    "d2.values()"
   ]
  },
  {
   "cell_type": "code",
   "execution_count": 51,
   "id": "bccd084f",
   "metadata": {},
   "outputs": [
    {
     "data": {
      "text/plain": [
       "dict_items([('key1', 'Value1'), ('key2', 'Value2'), ('lst', [1, 'ANOTHER NEW STRING', 'NEW STRING'])])"
      ]
     },
     "execution_count": 51,
     "metadata": {},
     "output_type": "execute_result"
    }
   ],
   "source": [
    "d2.items() # the return value here is a tuple"
   ]
  },
  {
   "cell_type": "code",
   "execution_count": null,
   "id": "6fa942b7",
   "metadata": {},
   "outputs": [],
   "source": []
  }
 ],
 "metadata": {
  "kernelspec": {
   "display_name": "Python 3",
   "language": "python",
   "name": "python3"
  },
  "language_info": {
   "codemirror_mode": {
    "name": "ipython",
    "version": 3
   },
   "file_extension": ".py",
   "mimetype": "text/x-python",
   "name": "python",
   "nbconvert_exporter": "python",
   "pygments_lexer": "ipython3",
   "version": "3.8.8"
  }
 },
 "nbformat": 4,
 "nbformat_minor": 5
}
