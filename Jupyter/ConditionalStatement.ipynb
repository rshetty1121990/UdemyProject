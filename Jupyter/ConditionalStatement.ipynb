{
 "cells": [
  {
   "cell_type": "code",
   "execution_count": 2,
   "id": "eaa4d150",
   "metadata": {},
   "outputs": [],
   "source": [
    "# if elif els --> amkes use of colona nd indentation and is crucial"
   ]
  },
  {
   "cell_type": "code",
   "execution_count": 5,
   "id": "b87f65e7",
   "metadata": {},
   "outputs": [
    {
     "name": "stdout",
     "output_type": "stream",
     "text": [
      "Its False\n"
     ]
    }
   ],
   "source": [
    "if False:\n",
    "    print(\"Its True\")\n",
    "else:\n",
    "    print(\"Its False\")"
   ]
  },
  {
   "cell_type": "code",
   "execution_count": 10,
   "id": "406095d9",
   "metadata": {},
   "outputs": [
    {
     "name": "stdout",
     "output_type": "stream",
     "text": [
      "Its False\n"
     ]
    }
   ],
   "source": [
    "if False:\n",
    "    print(\"Its True\")\n",
    "elif False:\n",
    "    print (\"We are here\")\n",
    "else:\n",
    "    print(\"Its False\")"
   ]
  },
  {
   "cell_type": "code",
   "execution_count": 12,
   "id": "8aab1206",
   "metadata": {},
   "outputs": [],
   "source": [
    "# for loop can be used to iterate over an object\n",
    "#for every character we can print out in a string/List/dict/"
   ]
  },
  {
   "cell_type": "code",
   "execution_count": 17,
   "id": "d498f96d",
   "metadata": {},
   "outputs": [
    {
     "name": "stdout",
     "output_type": "stream",
     "text": [
      "1\n",
      "2\n",
      "3\n",
      "4\n",
      "5\n",
      "6\n",
      "7\n",
      "8\n",
      "9\n",
      "10\n"
     ]
    }
   ],
   "source": [
    "mylist = [1,2,3,4,5,6,7,8,]\n",
    "for item in mylist:\n",
    "    print(item)"
   ]
  },
  {
   "cell_type": "code",
   "execution_count": 31,
   "id": "bd6c5433",
   "metadata": {},
   "outputs": [
    {
     "name": "stdout",
     "output_type": "stream",
     "text": [
      "1 is an odd number\n",
      "2 is an even number\n",
      "3 is an odd number\n",
      "4 is an even number\n",
      "5 is an odd number\n",
      "6 is an even number\n",
      "7 is an odd number\n",
      "8 is an even number\n"
     ]
    }
   ],
   "source": [
    "my_list = [1,2,3,4,5,6,7,8]\n",
    "for item in my_list:\n",
    "    if item%2 == 0:\n",
    "   \n",
    "        print(\"{0} is an even number\".format(item))\n",
    "        #print(\"{number} is an even number\".format(number = item))\n",
    "    else:\n",
    "        \n",
    "        print(f\"{item} is an odd number\")"
   ]
  },
  {
   "cell_type": "code",
   "execution_count": 32,
   "id": "6f9ef692",
   "metadata": {},
   "outputs": [
    {
     "name": "stdout",
     "output_type": "stream",
     "text": [
      "36\n"
     ]
    }
   ],
   "source": [
    "list_sum = 0\n",
    "for sum in my_list:\n",
    "    list_sum = list_sum + sum\n",
    "print(list_sum)"
   ]
  },
  {
   "cell_type": "code",
   "execution_count": 33,
   "id": "fd285c00",
   "metadata": {},
   "outputs": [
    {
     "name": "stdout",
     "output_type": "stream",
     "text": [
      "H\n",
      "e\n",
      "l\n",
      "l\n",
      "o\n",
      " \n",
      "W\n",
      "o\n",
      "r\n",
      "l\n",
      "d\n"
     ]
    }
   ],
   "source": [
    "mystr = \"Hello World\"\n",
    "for i in mystr:\n",
    "    print(i)"
   ]
  },
  {
   "cell_type": "code",
   "execution_count": 34,
   "id": "50a01030",
   "metadata": {},
   "outputs": [
    {
     "name": "stdout",
     "output_type": "stream",
     "text": [
      "1\n",
      "2\n",
      "3\n"
     ]
    }
   ],
   "source": [
    "tup = (1,2,3)\n",
    "for i in tup:\n",
    "    print(i)"
   ]
  },
  {
   "cell_type": "code",
   "execution_count": 76,
   "id": "c66d13dd",
   "metadata": {},
   "outputs": [],
   "source": [
    "mq = [(1,2,4),(4,5,7),(7,8)] #list of tuple tuple unpacking"
   ]
  },
  {
   "cell_type": "code",
   "execution_count": 72,
   "id": "39f7be51",
   "metadata": {},
   "outputs": [
    {
     "data": {
      "text/plain": [
       "[(1, 2, 4), (4, 5, 7), (7, 8, 9)]"
      ]
     },
     "execution_count": 72,
     "metadata": {},
     "output_type": "execute_result"
    }
   ],
   "source": [
    "mq"
   ]
  },
  {
   "cell_type": "code",
   "execution_count": 73,
   "id": "018a4c27",
   "metadata": {},
   "outputs": [
    {
     "name": "stdout",
     "output_type": "stream",
     "text": [
      "(1, 2, 4)\n",
      "(4, 5, 7)\n",
      "(7, 8, 9)\n"
     ]
    }
   ],
   "source": [
    "for i in mq:\n",
    "    print(i)"
   ]
  },
  {
   "cell_type": "code",
   "execution_count": 78,
   "id": "c5c5e1e3",
   "metadata": {},
   "outputs": [
    {
     "name": "stdout",
     "output_type": "stream",
     "text": [
      " The first item is 1 and second item is 2 and thirs item is 4 \n",
      " The first item is 4 and second item is 5 and thirs item is 7 \n"
     ]
    },
    {
     "ename": "ValueError",
     "evalue": "not enough values to unpack (expected 3, got 2)",
     "output_type": "error",
     "traceback": [
      "\u001b[1;31m---------------------------------------------------------------------------\u001b[0m",
      "\u001b[1;31mValueError\u001b[0m                                Traceback (most recent call last)",
      "\u001b[1;32m<ipython-input-78-8be2090d9c51>\u001b[0m in \u001b[0;36m<module>\u001b[1;34m\u001b[0m\n\u001b[0;32m      1\u001b[0m \u001b[1;31m#tuple unpacking requires us to know the number of values inside a tuple should be same\u001b[0m\u001b[1;33m\u001b[0m\u001b[1;33m\u001b[0m\u001b[1;33m\u001b[0m\u001b[0m\n\u001b[0;32m      2\u001b[0m \u001b[1;33m\u001b[0m\u001b[0m\n\u001b[1;32m----> 3\u001b[1;33m \u001b[1;32mfor\u001b[0m \u001b[1;33m(\u001b[0m\u001b[0ma\u001b[0m\u001b[1;33m,\u001b[0m\u001b[0mb\u001b[0m\u001b[1;33m,\u001b[0m\u001b[0mc\u001b[0m\u001b[1;33m)\u001b[0m \u001b[1;32min\u001b[0m \u001b[0mmq\u001b[0m\u001b[1;33m:\u001b[0m\u001b[1;33m\u001b[0m\u001b[1;33m\u001b[0m\u001b[0m\n\u001b[0m\u001b[0;32m      4\u001b[0m     \u001b[0mprint\u001b[0m\u001b[1;33m(\u001b[0m\u001b[1;34mf\" The first item is {a} and second item is {b} and thirs item is {c} \"\u001b[0m\u001b[1;33m)\u001b[0m\u001b[1;33m\u001b[0m\u001b[1;33m\u001b[0m\u001b[0m\n\u001b[0;32m      5\u001b[0m \u001b[1;33m\u001b[0m\u001b[0m\n",
      "\u001b[1;31mValueError\u001b[0m: not enough values to unpack (expected 3, got 2)"
     ]
    }
   ],
   "source": [
    "#tuple unpacking requires us to know the number of values inside a tuple should be same\n",
    "\n",
    "for (a,b,c) in mq:\n",
    "    print(f\" The first item is {a} and second item is {b} and thirs item is {c} \")\n",
    "    \n",
    "    "
   ]
  },
  {
   "cell_type": "code",
   "execution_count": 79,
   "id": "5309985e",
   "metadata": {},
   "outputs": [],
   "source": [
    "b = [(1,2,3),(6,7,8)]"
   ]
  },
  {
   "cell_type": "code",
   "execution_count": 80,
   "id": "203b6fec",
   "metadata": {},
   "outputs": [
    {
     "name": "stdout",
     "output_type": "stream",
     "text": [
      "[(1, 2, 3), (6, 7, 8)]\n",
      "[(1, 2, 3), (6, 7, 8)]\n"
     ]
    }
   ],
   "source": [
    "for item in b:\n",
    "    print (b)"
   ]
  },
  {
   "cell_type": "code",
   "execution_count": 93,
   "id": "279ff41b",
   "metadata": {},
   "outputs": [],
   "source": [
    "dict1 = {'k1' : 'value1','k2' : 'value1'}"
   ]
  },
  {
   "cell_type": "code",
   "execution_count": 88,
   "id": "b49bc8cf",
   "metadata": {},
   "outputs": [
    {
     "data": {
      "text/plain": [
       "dict_items([('k1', 'value1'), ('k2', 'value1')])"
      ]
     },
     "execution_count": 88,
     "metadata": {},
     "output_type": "execute_result"
    }
   ],
   "source": [
    "dict1.items() # here dict is converted into list with tuples , hecn tuple unpacking can be used and dict can be traversed"
   ]
  },
  {
   "cell_type": "code",
   "execution_count": 97,
   "id": "bdd6eacd",
   "metadata": {},
   "outputs": [
    {
     "name": "stdout",
     "output_type": "stream",
     "text": [
      "k1 and value1\n",
      "k2 and value1\n"
     ]
    }
   ],
   "source": [
    "for a, b in dict1.items():\n",
    "    print(f\"{a} and {b}\")"
   ]
  },
  {
   "cell_type": "code",
   "execution_count": 99,
   "id": "16b2cba3",
   "metadata": {},
   "outputs": [
    {
     "name": "stdout",
     "output_type": "stream",
     "text": [
      "k1\n",
      "k2\n"
     ]
    }
   ],
   "source": [
    "for a in dict1.keys():\n",
    "    print(f\"{a}\")"
   ]
  },
  {
   "cell_type": "code",
   "execution_count": 101,
   "id": "3ab3cd11",
   "metadata": {},
   "outputs": [
    {
     "name": "stdout",
     "output_type": "stream",
     "text": [
      "value1\n",
      "value1\n"
     ]
    }
   ],
   "source": [
    "for b in dict1.values():\n",
    "    print(f\"{b}\")"
   ]
  },
  {
   "cell_type": "code",
   "execution_count": 102,
   "id": "86e2e4c4",
   "metadata": {},
   "outputs": [],
   "source": [
    "#while loops is also with else in case needed"
   ]
  },
  {
   "cell_type": "code",
   "execution_count": 104,
   "id": "9bd15602",
   "metadata": {},
   "outputs": [
    {
     "name": "stdout",
     "output_type": "stream",
     "text": [
      "The current value of x is 0\n",
      "The current value of x is 1\n",
      "The current value of x is 2\n",
      "The current value of x is 3\n",
      "The current value of x is 4\n",
      "We are don here\n"
     ]
    }
   ],
   "source": [
    "x = 0\n",
    "while x < 5:\n",
    "    print(f'The current value of x is {x}')\n",
    "    x = x + 1\n",
    "else:\n",
    "    print (\"We are don here\")"
   ]
  },
  {
   "cell_type": "markdown",
   "id": "7f8dd443",
   "metadata": {},
   "source": [
    "# break continue and pass"
   ]
  },
  {
   "cell_type": "code",
   "execution_count": 112,
   "id": "2ab7abdd",
   "metadata": {},
   "outputs": [
    {
     "ename": "SyntaxError",
     "evalue": "unexpected EOF while parsing (<ipython-input-112-edadc9feb8eb>, line 3)",
     "output_type": "error",
     "traceback": [
      "\u001b[1;36m  File \u001b[1;32m\"<ipython-input-112-edadc9feb8eb>\"\u001b[1;36m, line \u001b[1;32m3\u001b[0m\n\u001b[1;33m    \u001b[0m\n\u001b[1;37m    ^\u001b[0m\n\u001b[1;31mSyntaxError\u001b[0m\u001b[1;31m:\u001b[0m unexpected EOF while parsing\n"
     ]
    }
   ],
   "source": [
    "x = [1,2,3]\n",
    "for item in x:\n",
    "    "
   ]
  },
  {
   "cell_type": "code",
   "execution_count": 113,
   "id": "40a01a61",
   "metadata": {},
   "outputs": [],
   "source": [
    "x = [1,2,3]\n",
    "for item in x:\n",
    "    pass # here pass keyword says do not nothing, above failed brcause pythonexcepts something inside for\n",
    "    "
   ]
  },
  {
   "cell_type": "code",
   "execution_count": 114,
   "id": "db82efd5",
   "metadata": {},
   "outputs": [
    {
     "name": "stdout",
     "output_type": "stream",
     "text": [
      "S\n",
      "m\n",
      "m\n",
      "y\n"
     ]
    }
   ],
   "source": [
    "mystring = \"Sammy\"\n",
    "for letter in mystring:\n",
    "    if letter == 'a':\n",
    "        continue # continue and break the loop and move to next iteration of loop\n",
    "    print(letter)"
   ]
  },
  {
   "cell_type": "code",
   "execution_count": 115,
   "id": "6046f384",
   "metadata": {},
   "outputs": [
    {
     "name": "stdout",
     "output_type": "stream",
     "text": [
      "S\n"
     ]
    }
   ],
   "source": [
    "mystring = \"Sammy\"\n",
    "for letter in mystring:\n",
    "    if letter == 'a':\n",
    "        break # continue and break the loop and move to next iteration of loop\n",
    "    print(letter)"
   ]
  },
  {
   "cell_type": "code",
   "execution_count": null,
   "id": "2135d6c2",
   "metadata": {},
   "outputs": [],
   "source": []
  }
 ],
 "metadata": {
  "kernelspec": {
   "display_name": "Python 3",
   "language": "python",
   "name": "python3"
  },
  "language_info": {
   "codemirror_mode": {
    "name": "ipython",
    "version": 3
   },
   "file_extension": ".py",
   "mimetype": "text/x-python",
   "name": "python",
   "nbconvert_exporter": "python",
   "pygments_lexer": "ipython3",
   "version": "3.8.8"
  }
 },
 "nbformat": 4,
 "nbformat_minor": 5
}
