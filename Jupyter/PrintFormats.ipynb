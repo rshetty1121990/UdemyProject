{
 "cells": [
  {
   "cell_type": "markdown",
   "id": "cffbd2eb",
   "metadata": {},
   "source": [
    "#.format function  - string can be insrted using index position"
   ]
  },
  {
   "cell_type": "code",
   "execution_count": 1,
   "id": "9d9e6658",
   "metadata": {},
   "outputs": [
    {
     "name": "stdout",
     "output_type": "stream",
     "text": [
      "This is a stringINSERTED\n"
     ]
    }
   ],
   "source": [
    "print('This is a string {}'.format('INSERTED'))"
   ]
  },
  {
   "cell_type": "code",
   "execution_count": 8,
   "id": "46b20aae",
   "metadata": {},
   "outputs": [
    {
     "name": "stdout",
     "output_type": "stream",
     "text": [
      "The fox brown quick\n"
     ]
    }
   ],
   "source": [
    "print('The {} {} {}'.format('fox', 'brown', 'quick'))"
   ]
  },
  {
   "cell_type": "markdown",
   "id": "22de8f42",
   "metadata": {},
   "source": [
    "now here the sentence is not correct so we can use index here"
   ]
  },
  {
   "cell_type": "code",
   "execution_count": 7,
   "id": "1f49d0f1",
   "metadata": {},
   "outputs": [
    {
     "name": "stdout",
     "output_type": "stream",
     "text": [
      "The fox brown quick\n"
     ]
    }
   ],
   "source": [
    "print('The {0} {1} {2}'.format('fox', 'brown', 'quick')) "
   ]
  },
  {
   "cell_type": "markdown",
   "id": "c7bb2c24",
   "metadata": {},
   "source": [
    "here we can also use our own indexes which makes readability much easier"
   ]
  },
  {
   "cell_type": "code",
   "execution_count": 9,
   "id": "75b792b1",
   "metadata": {},
   "outputs": [
    {
     "name": "stdout",
     "output_type": "stream",
     "text": [
      "The quick brown fox\n"
     ]
    }
   ],
   "source": [
    "print('The {q} {b} {f}'.format(f='fox', b='brown', q='quick'))"
   ]
  },
  {
   "cell_type": "markdown",
   "id": "42bee5c7",
   "metadata": {},
   "source": [
    "#Float foramtting"
   ]
  },
  {
   "cell_type": "code",
   "execution_count": 11,
   "id": "86ae1437",
   "metadata": {},
   "outputs": [
    {
     "data": {
      "text/plain": [
       "14.285714285714286"
      ]
     },
     "execution_count": 11,
     "metadata": {},
     "output_type": "execute_result"
    }
   ],
   "source": [
    "result = 100/7\n",
    "result"
   ]
  },
  {
   "cell_type": "code",
   "execution_count": 18,
   "id": "6447e858",
   "metadata": {},
   "outputs": [
    {
     "name": "stdout",
     "output_type": "stream",
     "text": [
      "The result is 14.285714285714286\n"
     ]
    }
   ],
   "source": [
    "print(\"The result is {}\".format(result))"
   ]
  },
  {
   "cell_type": "code",
   "execution_count": 22,
   "id": "c8dd2d21",
   "metadata": {},
   "outputs": [
    {
     "name": "stdout",
     "output_type": "stream",
     "text": [
      "The result is 14.285714285714286\n"
     ]
    }
   ],
   "source": [
    "print(\"The result is {r}\".format(r=result))  # Note if nothing specified 0 is the defauly index inside {}"
   ]
  },
  {
   "cell_type": "code",
   "execution_count": 27,
   "id": "42fd050a",
   "metadata": {},
   "outputs": [
    {
     "name": "stdout",
     "output_type": "stream",
     "text": [
      "The result is 14.286\n"
     ]
    }
   ],
   "source": [
    "print(\"The result is {r:2.3f}\".format(r=result)) # float formatting in print"
   ]
  },
  {
   "cell_type": "markdown",
   "id": "33919406",
   "metadata": {},
   "source": [
    "#f string -- format string literal"
   ]
  },
  {
   "cell_type": "code",
   "execution_count": 28,
   "id": "1ddac61a",
   "metadata": {},
   "outputs": [],
   "source": [
    "name = \"Rajath\""
   ]
  },
  {
   "cell_type": "code",
   "execution_count": 29,
   "id": "393ad66f",
   "metadata": {},
   "outputs": [
    {
     "name": "stdout",
     "output_type": "stream",
     "text": [
      "Hi his name is Rajath\n"
     ]
    }
   ],
   "source": [
    "print(\"Hi his name is {}\".format(name))"
   ]
  },
  {
   "cell_type": "code",
   "execution_count": 30,
   "id": "1e32fe82",
   "metadata": {},
   "outputs": [
    {
     "name": "stdout",
     "output_type": "stream",
     "text": [
      "Hi name is Rajath\n"
     ]
    }
   ],
   "source": [
    "print(f\"Hi name is {name}\")"
   ]
  },
  {
   "cell_type": "code",
   "execution_count": 31,
   "id": "c0229717",
   "metadata": {},
   "outputs": [],
   "source": [
    "name = \"Rajath\"\n",
    "age = 31"
   ]
  },
  {
   "cell_type": "code",
   "execution_count": 32,
   "id": "c6abbe4b",
   "metadata": {},
   "outputs": [
    {
     "name": "stdout",
     "output_type": "stream",
     "text": [
      "The name is Rajath and age is 31\n"
     ]
    }
   ],
   "source": [
    "print (\"The name is {} and age is {}\".format(name,age))"
   ]
  },
  {
   "cell_type": "code",
   "execution_count": 33,
   "id": "c69ee38f",
   "metadata": {},
   "outputs": [
    {
     "data": {
      "text/plain": [
       "int"
      ]
     },
     "execution_count": 33,
     "metadata": {},
     "output_type": "execute_result"
    }
   ],
   "source": [
    "type(age)"
   ]
  },
  {
   "cell_type": "code",
   "execution_count": 34,
   "id": "569ba0cf",
   "metadata": {},
   "outputs": [
    {
     "name": "stdout",
     "output_type": "stream",
     "text": [
      "The name is Rajath and age is 31\n"
     ]
    }
   ],
   "source": [
    "print(f\"The name is {name} and age is {age}\")"
   ]
  },
  {
   "cell_type": "code",
   "execution_count": null,
   "id": "85a7a1ed",
   "metadata": {},
   "outputs": [],
   "source": []
  }
 ],
 "metadata": {
  "kernelspec": {
   "display_name": "Python 3",
   "language": "python",
   "name": "python3"
  },
  "language_info": {
   "codemirror_mode": {
    "name": "ipython",
    "version": 3
   },
   "file_extension": ".py",
   "mimetype": "text/x-python",
   "name": "python",
   "nbconvert_exporter": "python",
   "pygments_lexer": "ipython3",
   "version": "3.8.8"
  }
 },
 "nbformat": 4,
 "nbformat_minor": 5
}
