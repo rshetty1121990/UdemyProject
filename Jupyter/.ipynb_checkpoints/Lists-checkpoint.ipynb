{
 "cells": [
  {
   "cell_type": "markdown",
   "id": "05693c23",
   "metadata": {},
   "source": [
    "Ordered sequence, that holds a diff object types\n",
    "Seperated by commas inside []\n",
    "Support indexing and slicing\n",
    "can be nested"
   ]
  },
  {
   "cell_type": "code",
   "execution_count": 1,
   "id": "5ed4a059",
   "metadata": {},
   "outputs": [],
   "source": [
    "my_list = [1,2,3]"
   ]
  },
  {
   "cell_type": "code",
   "execution_count": 2,
   "id": "73f5346b",
   "metadata": {},
   "outputs": [],
   "source": [
    "my_list=['STRING',1.00,100]"
   ]
  },
  {
   "cell_type": "code",
   "execution_count": 3,
   "id": "6823ff3e",
   "metadata": {},
   "outputs": [
    {
     "data": {
      "text/plain": [
       "3"
      ]
     },
     "execution_count": 3,
     "metadata": {},
     "output_type": "execute_result"
    }
   ],
   "source": [
    "len(my_list)"
   ]
  },
  {
   "cell_type": "code",
   "execution_count": 4,
   "id": "e158a6f1",
   "metadata": {},
   "outputs": [],
   "source": [
    "#ordered sequence of elemets hence suports indexing and slicing"
   ]
  },
  {
   "cell_type": "code",
   "execution_count": 5,
   "id": "5899a8c9",
   "metadata": {},
   "outputs": [],
   "source": [
    "mylist= [1,2,100]"
   ]
  },
  {
   "cell_type": "code",
   "execution_count": 6,
   "id": "c4760ca2",
   "metadata": {},
   "outputs": [
    {
     "data": {
      "text/plain": [
       "'STRING'"
      ]
     },
     "execution_count": 6,
     "metadata": {},
     "output_type": "execute_result"
    }
   ],
   "source": [
    "my_list[0]"
   ]
  },
  {
   "cell_type": "code",
   "execution_count": 7,
   "id": "cb037ad0",
   "metadata": {},
   "outputs": [
    {
     "data": {
      "text/plain": [
       "[1.0, 100]"
      ]
     },
     "execution_count": 7,
     "metadata": {},
     "output_type": "execute_result"
    }
   ],
   "source": [
    "my_list[1:3]"
   ]
  },
  {
   "cell_type": "code",
   "execution_count": 8,
   "id": "166b1e78",
   "metadata": {},
   "outputs": [
    {
     "data": {
      "text/plain": [
       "[1, 2, 100]"
      ]
     },
     "execution_count": 8,
     "metadata": {},
     "output_type": "execute_result"
    }
   ],
   "source": [
    "mylist"
   ]
  },
  {
   "cell_type": "code",
   "execution_count": 10,
   "id": "1b629c80",
   "metadata": {},
   "outputs": [
    {
     "data": {
      "text/plain": [
       "[1, 2, 100, 'STRING', 1.0, 100]"
      ]
     },
     "execution_count": 10,
     "metadata": {},
     "output_type": "execute_result"
    }
   ],
   "source": [
    "#Concatenate List\n",
    "new_list = mylist + my_list\n",
    "new_list"
   ]
  },
  {
   "cell_type": "markdown",
   "id": "78163082",
   "metadata": {},
   "source": [
    "Difference between string and list is its mutable, i.2 its elements in index can be replaced"
   ]
  },
  {
   "cell_type": "code",
   "execution_count": 11,
   "id": "d00567af",
   "metadata": {},
   "outputs": [
    {
     "data": {
      "text/plain": [
       "1"
      ]
     },
     "execution_count": 11,
     "metadata": {},
     "output_type": "execute_result"
    }
   ],
   "source": [
    "new_list[0]"
   ]
  },
  {
   "cell_type": "code",
   "execution_count": 13,
   "id": "040655ff",
   "metadata": {},
   "outputs": [
    {
     "data": {
      "text/plain": [
       "[1, 2, 100, 'STRING', 1.0, 100]"
      ]
     },
     "execution_count": 13,
     "metadata": {},
     "output_type": "execute_result"
    }
   ],
   "source": [
    "#changing the elements in a list\n",
    "\n",
    "new_list\n",
    "\n"
   ]
  },
  {
   "cell_type": "code",
   "execution_count": 14,
   "id": "6781f529",
   "metadata": {},
   "outputs": [],
   "source": [
    "new_list[0] = 'CHANGED'"
   ]
  },
  {
   "cell_type": "code",
   "execution_count": 15,
   "id": "ddb9076f",
   "metadata": {},
   "outputs": [
    {
     "data": {
      "text/plain": [
       "['CHANGED', 2, 100, 'STRING', 1.0, 100]"
      ]
     },
     "execution_count": 15,
     "metadata": {},
     "output_type": "execute_result"
    }
   ],
   "source": [
    "new_list"
   ]
  },
  {
   "cell_type": "code",
   "execution_count": 20,
   "id": "fc1c0dcf",
   "metadata": {},
   "outputs": [],
   "source": [
    "# add new items to end of list, take only one argument you can only apend one element\n",
    "\n",
    "new_list.append('newly added')"
   ]
  },
  {
   "cell_type": "code",
   "execution_count": 18,
   "id": "2cd8ae24",
   "metadata": {},
   "outputs": [
    {
     "data": {
      "text/plain": [
       "['CHANGED', 2, 100, 'STRING', 1.0, 100, 'newly added']"
      ]
     },
     "execution_count": 18,
     "metadata": {},
     "output_type": "execute_result"
    }
   ],
   "source": [
    "new_list"
   ]
  },
  {
   "cell_type": "code",
   "execution_count": 24,
   "id": "a832fc56",
   "metadata": {},
   "outputs": [],
   "source": [
    "# add another list variable we can use extend\n",
    "new_list.extend(my_list) "
   ]
  },
  {
   "cell_type": "code",
   "execution_count": 25,
   "id": "cdc5f62c",
   "metadata": {},
   "outputs": [
    {
     "data": {
      "text/plain": [
       "['CHANGED',\n",
       " 2,\n",
       " 100,\n",
       " 'STRING',\n",
       " 1.0,\n",
       " 100,\n",
       " 'newly added',\n",
       " 'newly added',\n",
       " 'STRING',\n",
       " 1.0,\n",
       " 100,\n",
       " 'STRING',\n",
       " 1.0,\n",
       " 100]"
      ]
     },
     "execution_count": 25,
     "metadata": {},
     "output_type": "execute_result"
    }
   ],
   "source": [
    "new_list"
   ]
  },
  {
   "cell_type": "code",
   "execution_count": 28,
   "id": "4f8bbe20",
   "metadata": {},
   "outputs": [
    {
     "data": {
      "text/plain": [
       "100"
      ]
     },
     "execution_count": 28,
     "metadata": {},
     "output_type": "execute_result"
    }
   ],
   "source": [
    "#removing from a list from end\n",
    "new_list.pop()"
   ]
  },
  {
   "cell_type": "code",
   "execution_count": 29,
   "id": "4e7615f5",
   "metadata": {},
   "outputs": [
    {
     "data": {
      "text/plain": [
       "1.0"
      ]
     },
     "execution_count": 29,
     "metadata": {},
     "output_type": "execute_result"
    }
   ],
   "source": [
    "new_list.pop()"
   ]
  },
  {
   "cell_type": "code",
   "execution_count": 30,
   "id": "cb562275",
   "metadata": {},
   "outputs": [
    {
     "data": {
      "text/plain": [
       "'STRING'"
      ]
     },
     "execution_count": 30,
     "metadata": {},
     "output_type": "execute_result"
    }
   ],
   "source": [
    "new_list.pop()"
   ]
  },
  {
   "cell_type": "code",
   "execution_count": 31,
   "id": "44809ef6",
   "metadata": {},
   "outputs": [
    {
     "data": {
      "text/plain": [
       "['CHANGED',\n",
       " 2,\n",
       " 100,\n",
       " 'STRING',\n",
       " 1.0,\n",
       " 100,\n",
       " 'newly added',\n",
       " 'newly added',\n",
       " 'STRING',\n",
       " 1.0,\n",
       " 100]"
      ]
     },
     "execution_count": 31,
     "metadata": {},
     "output_type": "execute_result"
    }
   ],
   "source": [
    "new_list"
   ]
  },
  {
   "cell_type": "code",
   "execution_count": 32,
   "id": "318b0f8a",
   "metadata": {},
   "outputs": [],
   "source": [
    "# popped item acan also be saved into a variable"
   ]
  },
  {
   "cell_type": "code",
   "execution_count": 33,
   "id": "550fd747",
   "metadata": {},
   "outputs": [],
   "source": [
    "poped_item = new_list.pop()"
   ]
  },
  {
   "cell_type": "code",
   "execution_count": 34,
   "id": "b4e3e1d7",
   "metadata": {},
   "outputs": [
    {
     "data": {
      "text/plain": [
       "100"
      ]
     },
     "execution_count": 34,
     "metadata": {},
     "output_type": "execute_result"
    }
   ],
   "source": [
    "poped_item"
   ]
  },
  {
   "cell_type": "code",
   "execution_count": 35,
   "id": "e1adfb16",
   "metadata": {},
   "outputs": [
    {
     "data": {
      "text/plain": [
       "'CHANGED'"
      ]
     },
     "execution_count": 35,
     "metadata": {},
     "output_type": "execute_result"
    }
   ],
   "source": [
    "#pop item at an index , reverse indenxing also works for string\n",
    "\n",
    "new_list.pop(0)"
   ]
  },
  {
   "cell_type": "code",
   "execution_count": 74,
   "id": "2d68f150",
   "metadata": {},
   "outputs": [],
   "source": [
    "#Sort \n",
    "\n",
    "new_list = ['a','c','e','b','d']\n",
    "num_list = [4,6,1,3]"
   ]
  },
  {
   "cell_type": "code",
   "execution_count": 75,
   "id": "8b30e010",
   "metadata": {},
   "outputs": [],
   "source": [
    "new_list.sort()"
   ]
  },
  {
   "cell_type": "code",
   "execution_count": 76,
   "id": "8ea28925",
   "metadata": {},
   "outputs": [
    {
     "data": {
      "text/plain": [
       "['a', 'b', 'c', 'd', 'e']"
      ]
     },
     "execution_count": 76,
     "metadata": {},
     "output_type": "execute_result"
    }
   ],
   "source": [
    "new_list"
   ]
  },
  {
   "cell_type": "code",
   "execution_count": 77,
   "id": "52111ffa",
   "metadata": {},
   "outputs": [],
   "source": [
    "num_list.sort()"
   ]
  },
  {
   "cell_type": "code",
   "execution_count": 78,
   "id": "e7ec5e45",
   "metadata": {},
   "outputs": [
    {
     "data": {
      "text/plain": [
       "[1, 3, 4, 6]"
      ]
     },
     "execution_count": 78,
     "metadata": {},
     "output_type": "execute_result"
    }
   ],
   "source": [
    "num_list"
   ]
  },
  {
   "cell_type": "code",
   "execution_count": 79,
   "id": "6fa62495",
   "metadata": {},
   "outputs": [],
   "source": [
    "num_list.reverse() # no return value, hence assigning will result in a null type"
   ]
  },
  {
   "cell_type": "code",
   "execution_count": 80,
   "id": "04d0571e",
   "metadata": {},
   "outputs": [
    {
     "data": {
      "text/plain": [
       "[6, 4, 3, 1]"
      ]
     },
     "execution_count": 80,
     "metadata": {},
     "output_type": "execute_result"
    }
   ],
   "source": [
    "num_list"
   ]
  },
  {
   "cell_type": "code",
   "execution_count": 81,
   "id": "a36fa588",
   "metadata": {},
   "outputs": [
    {
     "data": {
      "text/plain": [
       "[6, 4, 3, 1]"
      ]
     },
     "execution_count": 81,
     "metadata": {},
     "output_type": "execute_result"
    }
   ],
   "source": [
    "num_list"
   ]
  },
  {
   "cell_type": "code",
   "execution_count": 82,
   "id": "52c84602",
   "metadata": {},
   "outputs": [],
   "source": [
    "num_list.sort() # no return value, hence assigning will result in a null type"
   ]
  },
  {
   "cell_type": "code",
   "execution_count": 83,
   "id": "f579a2e1",
   "metadata": {},
   "outputs": [
    {
     "data": {
      "text/plain": [
       "[1, 3, 4, 6]"
      ]
     },
     "execution_count": 83,
     "metadata": {},
     "output_type": "execute_result"
    }
   ],
   "source": [
    "num_list"
   ]
  },
  {
   "cell_type": "code",
   "execution_count": 84,
   "id": "01dcd0a6",
   "metadata": {},
   "outputs": [
    {
     "data": {
      "text/plain": [
       "list"
      ]
     },
     "execution_count": 84,
     "metadata": {},
     "output_type": "execute_result"
    }
   ],
   "source": [
    "type(num_list)"
   ]
  },
  {
   "cell_type": "code",
   "execution_count": 85,
   "id": "528414ce",
   "metadata": {},
   "outputs": [
    {
     "data": {
      "text/plain": [
       "[3, 6]"
      ]
     },
     "execution_count": 85,
     "metadata": {},
     "output_type": "execute_result"
    }
   ],
   "source": [
    "num_list[1::2]"
   ]
  },
  {
   "cell_type": "code",
   "execution_count": 86,
   "id": "d818abda",
   "metadata": {},
   "outputs": [],
   "source": [
    "numlst = [6,5,7,1,3,2,4,8,9]"
   ]
  },
  {
   "cell_type": "code",
   "execution_count": 87,
   "id": "a16a73bb",
   "metadata": {},
   "outputs": [],
   "source": [
    "numlst.sort()"
   ]
  },
  {
   "cell_type": "code",
   "execution_count": 88,
   "id": "5204d1d0",
   "metadata": {},
   "outputs": [
    {
     "data": {
      "text/plain": [
       "[1, 2, 3, 4, 5, 6, 7, 8, 9]"
      ]
     },
     "execution_count": 88,
     "metadata": {},
     "output_type": "execute_result"
    }
   ],
   "source": [
    "numlst"
   ]
  },
  {
   "cell_type": "code",
   "execution_count": 89,
   "id": "21fee2e4",
   "metadata": {},
   "outputs": [
    {
     "data": {
      "text/plain": [
       "[2, 3, 4, 5, 6, 7, 8, 9]"
      ]
     },
     "execution_count": 89,
     "metadata": {},
     "output_type": "execute_result"
    }
   ],
   "source": [
    "numlst[1:]"
   ]
  },
  {
   "cell_type": "code",
   "execution_count": 91,
   "id": "3d6b8716",
   "metadata": {},
   "outputs": [
    {
     "data": {
      "text/plain": [
       "[1, 4]"
      ]
     },
     "execution_count": 91,
     "metadata": {},
     "output_type": "execute_result"
    }
   ],
   "source": [
    "numlst[0:5:3]"
   ]
  },
  {
   "cell_type": "code",
   "execution_count": null,
   "id": "4e0bc844",
   "metadata": {},
   "outputs": [],
   "source": []
  }
 ],
 "metadata": {
  "kernelspec": {
   "display_name": "Python 3",
   "language": "python",
   "name": "python3"
  },
  "language_info": {
   "codemirror_mode": {
    "name": "ipython",
    "version": 3
   },
   "file_extension": ".py",
   "mimetype": "text/x-python",
   "name": "python",
   "nbconvert_exporter": "python",
   "pygments_lexer": "ipython3",
   "version": "3.8.8"
  }
 },
 "nbformat": 4,
 "nbformat_minor": 5
}
